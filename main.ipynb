{
  "nbformat": 4,
  "nbformat_minor": 0,
  "metadata": {
    "colab": {
      "provenance": [],
      "collapsed_sections": [
        "CsovPdB3f7PC"
      ]
    },
    "kernelspec": {
      "name": "python3",
      "display_name": "Python 3"
    },
    "language_info": {
      "name": "python"
    }
  },
  "cells": [
    {
      "cell_type": "code",
      "execution_count": 1,
      "metadata": {
        "id": "xa_ko5MIt3JU"
      },
      "outputs": [],
      "source": [
        "import os\n",
        "import torch\n",
        "from torch import nn\n",
        "from torch.nn import functional as F\n",
        "import pandas as pd\n",
        "import numpy as np\n",
        "import torchaudio"
      ]
    },
    {
      "cell_type": "markdown",
      "source": [
        "# Конфигурирование"
      ],
      "metadata": {
        "id": "0vzKsGBov1fl"
      }
    },
    {
      "cell_type": "code",
      "source": [
        "config = {\n",
        "    \"dataset\": {\n",
        "        \"train\": {\n",
        "            \"table\": \"./data/train.csv\",\n",
        "            \"data\": \"./data/bare_data/\"\n",
        "        },\n",
        "        \"val\": {\n",
        "            \"table\": \"./data/val.csv\",\n",
        "            \"data\": \"./data/bare_data/\"\n",
        "        }\n",
        "    },\n",
        "    \"train\": {\n",
        "        \"batch_size\": 1,\n",
        "        \"grad_acum\": 1,\n",
        "        \"dtype\": \"float32\",\n",
        "        'shuffle': True,\n",
        "        'pin_memory': True,\n",
        "    },\n",
        "    \"val\": {\n",
        "        \"batch_size\": 1,\n",
        "        \"grad_acum\": 1,\n",
        "        \"dtype\": \"float32\",\n",
        "        'shuffle': False,\n",
        "        'pin_memory': True,\n",
        "    },\n",
        "    \"vae\": {\n",
        "        \"freq\": 16000,\n",
        "        \"lenght\": 5,\n",
        "    },\n",
        "    \"model\": {\n",
        "        \"latent_size\": 128,\n",
        "        \"freq_scale\": 4,\n",
        "        \"time_scale\": 4,\n",
        "    },\n",
        "    \"utils\": {\n",
        "        \"n_fft\": 800, # TODO\n",
        "    }\n",
        "}"
      ],
      "metadata": {
        "id": "J8va9Ak-v7MW"
      },
      "execution_count": 2,
      "outputs": []
    }
  ]
}