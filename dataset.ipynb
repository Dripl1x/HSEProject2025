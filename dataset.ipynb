{
 "cells": [
  {
   "cell_type": "code",
   "execution_count": null,
   "metadata": {},
   "outputs": [],
   "source": [
    "import torch.utils.data as data\n",
    "import pandas as pd\n",
    " \n",
    "class MyDataset(data.Dataset): # имя класса MyDataset может быть любым\n",
    "    def __init__(self, data_file, data_dir): # инициализация переменных объекта класса\n",
    "        self.phonemes_labels = pd.read_csv(data_file)\n",
    "        self.phonemes_dir = data_dir\n",
    " \n",
    "    def __getitem__(self, item): # возвращение образа выборки по индексу item\n",
    "        return self.phonemes_labels.loc[item]\n",
    "\n",
    "    def __len__(self): # возвращение размера выборки\n",
    "        return len(self.phonemes_labels)"
   ]
  }
 ],
 "metadata": {
  "kernelspec": {
   "display_name": "Python 3",
   "language": "python",
   "name": "python3"
  },
  "language_info": {
   "codemirror_mode": {
    "name": "ipython",
    "version": 3
   },
   "file_extension": ".py",
   "mimetype": "text/x-python",
   "name": "python",
   "nbconvert_exporter": "python",
   "pygments_lexer": "ipython3",
   "version": "3.10.12"
  }
 },
 "nbformat": 4,
 "nbformat_minor": 5
}
