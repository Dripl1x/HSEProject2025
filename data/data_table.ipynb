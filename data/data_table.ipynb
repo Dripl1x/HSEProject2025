{
  "cells": [
    {
      "cell_type": "code",
      "execution_count": 2,
      "metadata": {
        "id": "XOPUYKXfdkjv"
      },
      "outputs": [],
      "source": [
        "import pandas as pd\n",
        "import re\n",
        "from pathlib import Path"
      ]
    },
    {
      "cell_type": "code",
      "execution_count": 3,
      "metadata": {
        "id": "C_J-HvkxfnvI"
      },
      "outputs": [],
      "source": [
        "wav_dir = Path(\"bare_data\")\n",
        "files = [p.name for p in wav_dir.glob(\"*.wav\")]\n",
        "files.sort()\n",
        "\n",
        "phoneme_re = re.compile(r'^(\\d+)-')\n",
        "\n",
        "def get_phoneme(fname):\n",
        "    return int(phoneme_re.match(fname).group(1))\n",
        "\n",
        "sex_lookup = {\n",
        "    \"Evgeniy\": \"male\",\n",
        "    \"Sonya\":   \"female\",\n",
        "    \"Uliana\":  \"female\",\n",
        "    \"Yana\":    \"female\",\n",
        "}\n",
        "\n",
        "def get_sex(fname):\n",
        "    speaker = fname.split('-', 1)[1].rsplit('.', 1)[0]\n",
        "    return sex_lookup.get(speaker, \"unknown\")\n"
      ]
    },
    {
      "cell_type": "code",
      "execution_count": 4,
      "metadata": {
        "colab": {
          "base_uri": "https://localhost:8080/",
          "height": 206
        },
        "id": "3w-zUsJufrNn",
        "outputId": "8c91ef0f-9a53-4220-b879-9debc91a3c27"
      },
      "outputs": [
        {
          "data": {
            "text/html": [
              "<div>\n",
              "<style scoped>\n",
              "    .dataframe tbody tr th:only-of-type {\n",
              "        vertical-align: middle;\n",
              "    }\n",
              "\n",
              "    .dataframe tbody tr th {\n",
              "        vertical-align: top;\n",
              "    }\n",
              "\n",
              "    .dataframe thead th {\n",
              "        text-align: right;\n",
              "    }\n",
              "</style>\n",
              "<table border=\"1\" class=\"dataframe\">\n",
              "  <thead>\n",
              "    <tr style=\"text-align: right;\">\n",
              "      <th></th>\n",
              "      <th>file</th>\n",
              "      <th>phoneme</th>\n",
              "      <th>sex</th>\n",
              "    </tr>\n",
              "  </thead>\n",
              "  <tbody>\n",
              "    <tr>\n",
              "      <th>0</th>\n",
              "      <td>01-Evgeniy.wav</td>\n",
              "      <td>1</td>\n",
              "      <td>male</td>\n",
              "    </tr>\n",
              "    <tr>\n",
              "      <th>1</th>\n",
              "      <td>01-Sonya.wav</td>\n",
              "      <td>1</td>\n",
              "      <td>female</td>\n",
              "    </tr>\n",
              "    <tr>\n",
              "      <th>2</th>\n",
              "      <td>01-Uliana.wav</td>\n",
              "      <td>1</td>\n",
              "      <td>female</td>\n",
              "    </tr>\n",
              "    <tr>\n",
              "      <th>3</th>\n",
              "      <td>01-Yana.wav</td>\n",
              "      <td>1</td>\n",
              "      <td>female</td>\n",
              "    </tr>\n",
              "    <tr>\n",
              "      <th>4</th>\n",
              "      <td>02-Evgeniy.wav</td>\n",
              "      <td>2</td>\n",
              "      <td>male</td>\n",
              "    </tr>\n",
              "  </tbody>\n",
              "</table>\n",
              "</div>"
            ],
            "text/plain": [
              "             file  phoneme     sex\n",
              "0  01-Evgeniy.wav        1    male\n",
              "1    01-Sonya.wav        1  female\n",
              "2   01-Uliana.wav        1  female\n",
              "3     01-Yana.wav        1  female\n",
              "4  02-Evgeniy.wav        2    male"
            ]
          },
          "execution_count": 4,
          "metadata": {},
          "output_type": "execute_result"
        }
      ],
      "source": [
        "df = pd.DataFrame({\n",
        "    \"file\":    files,\n",
        "    \"phoneme\": [get_phoneme(f) for f in files],\n",
        "    \"sex\":     [get_sex(f)     for f in files],\n",
        "})\n",
        "\n",
        "df.head()"
      ]
    },
    {
      "cell_type": "code",
      "execution_count": 5,
      "metadata": {},
      "outputs": [],
      "source": [
        "df.to_csv(r\"data_table.csv\", index=False, sep=\",\")"
      ]
    }
  ],
  "metadata": {
    "colab": {
      "provenance": []
    },
    "kernelspec": {
      "display_name": "Python 3",
      "name": "python3"
    },
    "language_info": {
      "codemirror_mode": {
        "name": "ipython",
        "version": 3
      },
      "file_extension": ".py",
      "mimetype": "text/x-python",
      "name": "python",
      "nbconvert_exporter": "python",
      "pygments_lexer": "ipython3",
      "version": "3.10.12"
    }
  },
  "nbformat": 4,
  "nbformat_minor": 0
}
