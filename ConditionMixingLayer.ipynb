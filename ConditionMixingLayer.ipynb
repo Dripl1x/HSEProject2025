{
  "nbformat": 4,
  "nbformat_minor": 0,
  "metadata": {
    "colab": {
      "provenance": []
    },
    "kernelspec": {
      "name": "python3",
      "display_name": "Python 3"
    },
    "language_info": {
      "name": "python"
    }
  },
  "cells": [
    {
      "cell_type": "code",
      "source": [
        "class ResudialBlock(nn.Module):\n",
        "    def __init__(self, *args):\n",
        "        super().__init__()\n",
        "        self.layers = nn.Sequential(*args)Где используют синтез речи\n",
        "\n",
        "    def forward(self, x):\n",
        "        return x + self.layers(x)\n",
        "\n",
        "class ConditionMixingLayer(nn.Module):\n",
        "    def __init__(self, input_channels, conditioning_length, hidden_size = 8):\n",
        "        super().__init__()\n",
        "        self.hidden_size = hidden_size\n",
        "        self.cond_proj = nn.Linear(conditioning_length, self.hidden_size)\n",
        "        self.conv_proj = nn.Conv2d(input_channels, self.hidden_size, 3, 1, 1)\n",
        "        self.lin_proj = nn.Linear(self.hidden_size, self.hidden_size)\n",
        "        self.lin1_unproj = nn.Linear(self.hidden_size, self.hidden_size)\n",
        "        self.lin2_unproj = nn.Linear(self.hidden_size, self.hidden_size)\n",
        "        self.conv_unproj = nn.Conv2d(self.hidden_size, input_channels, 3, 1, 1)\n",
        "        self.conv_act = nn.Tanh()\n",
        "        self.bn1 = nn.BatchNorm2d(input_channels)\n",
        "        self.bn2 = nn.BatchNorm2d(input_channels)\n",
        "\n",
        "\n",
        "        self.add_a = nn.Linear(self.hidden_size, self.hidden_size)\n",
        "        self.add_b = nn.Linear(self.hidden_size, self.hidden_size)\n",
        "\n",
        "    def forward(self, x, c=None, skip=False):\n",
        "        if len(x.shape)==3:\n",
        "            x = x.unsqueeze(0)\n",
        "        b, ch, h, w = x.shape\n",
        "        x = self.bn1(x)\n",
        "        xn = self.conv_proj(x) # [B, N, H, W]\n",
        "        xn = self.conv_act(xn)\n",
        "        xn = xn.view(b, h*w, self.hidden_size) # [B, H*W, N]\n",
        "        xn = self.lin_proj(xn) # [B, H*W, N]\n",
        "        xn = self.conv_act(xn) # [B, H*W, N]\n",
        "        if not skip:\n",
        "            cn = self.cond_proj(c) # [B, N]\n",
        "            cn = self.conv_act(cn) # [B, N]\n",
        "            cn = cn.view(b, 1, self.hidden_size)\n",
        "            xn = self.add_a(xn) # [B, 1, N]\n",
        "            cn = self.add_b(cn) # [B, H*W, N]\n",
        "            xn = xn + cn # [B, H*W, N]\n",
        "\n",
        "        xn = self.lin1_unproj(xn) # [B, H*W, N]\n",
        "        xn = self.conv_act(xn) # [B, H*W, N]\n",
        "        xn = self.lin2_unproj(xn) # [B, H*W, N]\n",
        "        xn = self.conv_act(xn) # [B, H*W, N]\n",
        "\n",
        "        xn = xn.view(b, self.hidden_size, h, w) # [B, N, H, W]\n",
        "        xn = self.conv_unproj(xn)\n",
        "        xn = self.conv_act(xn) # [B, I, H, W]\n",
        "        xn = self.bn2(xn)\n",
        "\n",
        "        x = xn + x\n",
        "\n",
        "        return x"
      ],
      "metadata": {
        "id": "bwz9Ju6DkdX2"
      },
      "execution_count": null,
      "outputs": []
    }
  ]
}