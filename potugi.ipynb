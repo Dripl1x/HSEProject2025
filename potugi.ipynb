{
  "nbformat": 4,
  "nbformat_minor": 0,
  "metadata": {
    "colab": {
      "provenance": []
    },
    "kernelspec": {
      "name": "python3",
      "display_name": "Python 3"
    },
    "language_info": {
      "name": "python"
    }
  },
  "cells": [
    {
      "cell_type": "code",
      "execution_count": 2,
      "metadata": {
        "id": "hlZTdA_jsxuJ"
      },
      "outputs": [],
      "source": [
        "import torch\n",
        "from torch import nn\n",
        "from torch.nn import functional as F\n",
        "import pandas as pd\n",
        "import numpy as np\n",
        "import torchaudio\n",
        "class VAE_Audio(nn.Module):\n",
        "    def __init__(self,):\n",
        "        super().__init__()\n",
        "        self.encoder_input = nn.Sequential(*[\n",
        "                nn.Conv2d(in_channels=1, out_channels=2, kernel_size=3, stride=1, padding=1),\n",
        "                nn.LazyBatchNorm2d(),\n",
        "                nn.GELU(),\n",
        "                nn.Conv2d(in_channels=2, out_channels=1, kernel_size=3, stride=1, padding=1),\n",
        "            ])\n",
        "        self.encoder_squeeze = nn.Sequential(*[\n",
        "                nn.Conv2d(in_channels=1, out_channels=2, kernel_size=3, stride=2, padding=1), # TODO перепроверить размеры\n",
        "                nn.Conv2d(in_channels=2, out_channels=1, kernel_size=3, stride=2, padding=1), # TODO перепроверить размеры\n",
        "            ])\n",
        "        self.encoder_mu = nn.Conv2d(1, 1, 1)\n",
        "        self.encoder_logvar = nn.Conv2d(1, 1, 1)\n",
        "        self.decoder_unsqueeze = nn.Sequential(*[\n",
        "                nn.ConvTranspose2d(in_channels=1, out_channels=2, kernel_size=3, stride=2, padding=1, output_padding=1), # TODO перепроверить размеры\n",
        "                nn.ConvTranspose2d(in_channels=2, out_channels=1, kernel_size=3, stride=2, padding=1, output_padding=1), # TODO перепроверить размеры\n",
        "            ])\n",
        "        self.decoder_output = nn.Sequential(*[\n",
        "                nn.ConvTranspose2d(in_channels=1, out_channels=2, kernel_size=3, stride=1, padding=1),\n",
        "                nn.GELU(),\n",
        "                nn.LazyBatchNorm2d(),\n",
        "                nn.ConvTranspose2d(in_channels=2, out_channels=1, kernel_size=3, stride=1, padding=1),\n",
        "            ])\n",
        "    def encode(self, x):\n",
        "        x = self.encoder_input(x)\n",
        "        x = self.encoder_squeeze(x)\n",
        "        mu = self.encoder_mu(x)\n",
        "        logvar = self.encoder_logvar(x)\n",
        "        return mu, logvar\n",
        "    def sample(self, x):\n",
        "        mu, logvar = self.encode(x)\n",
        "        std = torch.exp(0.5 * logvar)\n",
        "        eps = torch.randn_like(std)\n",
        "        z = mu + logvar*eps\n",
        "        return z, mu, logvar\n",
        "    def decode(self, x):\n",
        "        x = self.decoder_unsqueeze(x)\n",
        "        x = self.decoder_output(x)\n",
        "        return x\n",
        "    def KLD_loss(self, mu, logvar):\n",
        "        kld_loss = torch.mean(-0.5 * torch.sum(1 + logvar - mu ** 2 - logvar.exp(), dim = 1), dim = 0)\n",
        "        return kld_loss\n",
        "    def forward(self, x):\n",
        "        z, mu, logvar = self.sample(x)\n",
        "        return self.decode(z), z, mu, logvar"
      ]
    },
    {
      "cell_type": "code",
      "source": [
        "from tqdm.auto import tqdm\n",
        "class AvegereMeter:\n",
        "    def __init__(self,):\n",
        "        self.arr = []\n",
        "    def __call__(self, item, n=1):\n",
        "        if n<=1:\n",
        "            self.arr.extend([item])\n",
        "        else:\n",
        "            self.arr.extend([item]*n)\n",
        "    def __str__(self,) -> str:\n",
        "        return str(np.mean(np.array(self.arr)))\n",
        "    def zero(self,):\n",
        "        self.arr=[]\n",
        "\n",
        "class VAE_Trainer:\n",
        "    def __init__(self, model, train_dataloader, val_dataloader,):\n",
        "        self.model = model\n",
        "        self.tdl = train_dataloader\n",
        "        self.vdl = val_dataloader\n",
        "        self.optimizer = torch.optim.SGD(model.parameters(), lr=0.01, momentum=0.9)\n",
        "        self.rec_loss = nn.MSELoss()\n",
        "        self.loss_meter = AvegereMeter()\n",
        "        # self.scheduler\n",
        "\n",
        "    def train_loop(self, k=0.01):\n",
        "        self.model.train()\n",
        "        self.loss_meter.zero()\n",
        "        for batch in tqdm(self.tdl):\n",
        "            audio = batch[::, 0]\n",
        "            z, mu, logvar = self.model.sample(audio)\n",
        "            output = self.model.decode(z)\n",
        "            loss = self.rec_loss(output, audio)+k*self.model.KLD_loss(mu, logvar)\n",
        "            loss.backward()\n",
        "            self.loss_meter(loss.item(), batch.shape[0])\n",
        "            self.optimizer.step()\n",
        "            self.optimizer.zero_grad()\n",
        "        #self.scheduler.step()\n",
        "        print(\"Loss = \"+self.loss_meter.__str__())\n",
        "    def val_loop(self):\n",
        "        self.model.eval()\n",
        "        self.loss_meter.zero()\n",
        "        for batch in tqdm(self.tdl):\n",
        "            with torch.no_grad():\n",
        "                audio = batch[::, 0]\n",
        "                z, mu, logvar = self.model.sample(audio)\n",
        "                output = self.model.decode(mu)\n",
        "                loss = self.rec_loss(output, audio)\n",
        "                self.loss_meter(loss.item(), batch.shape[0])\n",
        "        print(\"Val loss = \"+self.loss_meter.__str__())\n"
      ],
      "metadata": {
        "id": "jkNEDcNOs1-1"
      },
      "execution_count": 3,
      "outputs": []
    },
    {
      "cell_type": "code",
      "source": [
        "import torch\n",
        "import torch.nn as nn\n",
        "from torch.utils.data import DataLoader\n",
        "from torchvision import datasets, transforms\n",
        "from tqdm import tqdm\n",
        "\n",
        "transform = transforms.Compose([\n",
        "    transforms.ToTensor(),\n",
        "    transforms.Normalize((0.1307,), (0.3081,))\n",
        "])\n",
        "\n",
        "train_dataset = datasets.MNIST('../data', train=True, download=True, transform=transform)\n",
        "test_dataset = datasets.MNIST('../data', train=False, transform=transform)\n",
        "\n",
        "train_dataloader = DataLoader(train_dataset, batch_size=32, shuffle=True)\n",
        "val_dataloader = DataLoader(test_dataset, batch_size=32, shuffle=False)\n",
        "\n",
        "vae = VAE_Audio()\n",
        "\n",
        "trainer = VAE_Trainer(vae, train_dataloader, val_dataloader)\n",
        "for epoch in tqdm(range(100)):\n",
        "    trainer.train_loop(0.01)\n",
        "    trainer.val_loop()\n",
        "torch.save(vae.state_dict(), \"vae.pt\")\n"
      ],
      "metadata": {
        "colab": {
          "base_uri": "https://localhost:8080/",
          "height": 454
        },
        "id": "116K9mDys7O7",
        "outputId": "70529d11-1d4d-4c82-8a46-9bd3b98af832"
      },
      "execution_count": 4,
      "outputs": [
        {
          "output_type": "stream",
          "name": "stderr",
          "text": [
            "100%|██████████| 9.91M/9.91M [00:00<00:00, 20.5MB/s]\n",
            "100%|██████████| 28.9k/28.9k [00:00<00:00, 615kB/s]\n",
            "100%|██████████| 1.65M/1.65M [00:00<00:00, 5.74MB/s]\n",
            "100%|██████████| 4.54k/4.54k [00:00<00:00, 4.95MB/s]\n",
            "  0%|          | 0/100 [00:00<?, ?it/s]\n",
            "  0%|          | 0/1875 [00:00<?, ?it/s]\n",
            "  0%|          | 0/100 [00:00<?, ?it/s]\n"
          ]
        },
        {
          "output_type": "error",
          "ename": "TypeError",
          "evalue": "list indices must be integers or slices, not tuple",
          "traceback": [
            "\u001b[0;31m---------------------------------------------------------------------------\u001b[0m",
            "\u001b[0;31mTypeError\u001b[0m                                 Traceback (most recent call last)",
            "\u001b[0;32m<ipython-input-4-4e808f09ba76>\u001b[0m in \u001b[0;36m<cell line: 0>\u001b[0;34m()\u001b[0m\n\u001b[1;32m     20\u001b[0m \u001b[0mtrainer\u001b[0m \u001b[0;34m=\u001b[0m \u001b[0mVAE_Trainer\u001b[0m\u001b[0;34m(\u001b[0m\u001b[0mvae\u001b[0m\u001b[0;34m,\u001b[0m \u001b[0mtrain_dataloader\u001b[0m\u001b[0;34m,\u001b[0m \u001b[0mval_dataloader\u001b[0m\u001b[0;34m)\u001b[0m\u001b[0;34m\u001b[0m\u001b[0;34m\u001b[0m\u001b[0m\n\u001b[1;32m     21\u001b[0m \u001b[0;32mfor\u001b[0m \u001b[0mepoch\u001b[0m \u001b[0;32min\u001b[0m \u001b[0mtqdm\u001b[0m\u001b[0;34m(\u001b[0m\u001b[0mrange\u001b[0m\u001b[0;34m(\u001b[0m\u001b[0;36m100\u001b[0m\u001b[0;34m)\u001b[0m\u001b[0;34m)\u001b[0m\u001b[0;34m:\u001b[0m\u001b[0;34m\u001b[0m\u001b[0;34m\u001b[0m\u001b[0m\n\u001b[0;32m---> 22\u001b[0;31m     \u001b[0mtrainer\u001b[0m\u001b[0;34m.\u001b[0m\u001b[0mtrain_loop\u001b[0m\u001b[0;34m(\u001b[0m\u001b[0;36m0.01\u001b[0m\u001b[0;34m)\u001b[0m\u001b[0;34m\u001b[0m\u001b[0;34m\u001b[0m\u001b[0m\n\u001b[0m\u001b[1;32m     23\u001b[0m     \u001b[0mtrainer\u001b[0m\u001b[0;34m.\u001b[0m\u001b[0mval_loop\u001b[0m\u001b[0;34m(\u001b[0m\u001b[0;34m)\u001b[0m\u001b[0;34m\u001b[0m\u001b[0;34m\u001b[0m\u001b[0m\n\u001b[1;32m     24\u001b[0m \u001b[0mtorch\u001b[0m\u001b[0;34m.\u001b[0m\u001b[0msave\u001b[0m\u001b[0;34m(\u001b[0m\u001b[0mvae\u001b[0m\u001b[0;34m.\u001b[0m\u001b[0mstate_dict\u001b[0m\u001b[0;34m(\u001b[0m\u001b[0;34m)\u001b[0m\u001b[0;34m,\u001b[0m \u001b[0;34m\"vae.pt\"\u001b[0m\u001b[0;34m)\u001b[0m\u001b[0;34m\u001b[0m\u001b[0;34m\u001b[0m\u001b[0m\n",
            "\u001b[0;32m<ipython-input-3-c1d913b6772e>\u001b[0m in \u001b[0;36mtrain_loop\u001b[0;34m(self, k)\u001b[0m\n\u001b[1;32m     27\u001b[0m         \u001b[0mself\u001b[0m\u001b[0;34m.\u001b[0m\u001b[0mloss_meter\u001b[0m\u001b[0;34m.\u001b[0m\u001b[0mzero\u001b[0m\u001b[0;34m(\u001b[0m\u001b[0;34m)\u001b[0m\u001b[0;34m\u001b[0m\u001b[0;34m\u001b[0m\u001b[0m\n\u001b[1;32m     28\u001b[0m         \u001b[0;32mfor\u001b[0m \u001b[0mbatch\u001b[0m \u001b[0;32min\u001b[0m \u001b[0mtqdm\u001b[0m\u001b[0;34m(\u001b[0m\u001b[0mself\u001b[0m\u001b[0;34m.\u001b[0m\u001b[0mtdl\u001b[0m\u001b[0;34m)\u001b[0m\u001b[0;34m:\u001b[0m\u001b[0;34m\u001b[0m\u001b[0;34m\u001b[0m\u001b[0m\n\u001b[0;32m---> 29\u001b[0;31m             \u001b[0maudio\u001b[0m \u001b[0;34m=\u001b[0m \u001b[0mbatch\u001b[0m\u001b[0;34m[\u001b[0m\u001b[0;34m:\u001b[0m\u001b[0;34m:\u001b[0m\u001b[0;34m,\u001b[0m \u001b[0;36m0\u001b[0m\u001b[0;34m]\u001b[0m\u001b[0;34m\u001b[0m\u001b[0;34m\u001b[0m\u001b[0m\n\u001b[0m\u001b[1;32m     30\u001b[0m             \u001b[0mz\u001b[0m\u001b[0;34m,\u001b[0m \u001b[0mmu\u001b[0m\u001b[0;34m,\u001b[0m \u001b[0mlogvar\u001b[0m \u001b[0;34m=\u001b[0m \u001b[0mself\u001b[0m\u001b[0;34m.\u001b[0m\u001b[0mmodel\u001b[0m\u001b[0;34m.\u001b[0m\u001b[0msample\u001b[0m\u001b[0;34m(\u001b[0m\u001b[0maudio\u001b[0m\u001b[0;34m)\u001b[0m\u001b[0;34m\u001b[0m\u001b[0;34m\u001b[0m\u001b[0m\n\u001b[1;32m     31\u001b[0m             \u001b[0moutput\u001b[0m \u001b[0;34m=\u001b[0m \u001b[0mself\u001b[0m\u001b[0;34m.\u001b[0m\u001b[0mmodel\u001b[0m\u001b[0;34m.\u001b[0m\u001b[0mdecode\u001b[0m\u001b[0;34m(\u001b[0m\u001b[0mz\u001b[0m\u001b[0;34m)\u001b[0m\u001b[0;34m\u001b[0m\u001b[0;34m\u001b[0m\u001b[0m\n",
            "\u001b[0;31mTypeError\u001b[0m: list indices must be integers or slices, not tuple"
          ]
        }
      ]
    }
  ]
}